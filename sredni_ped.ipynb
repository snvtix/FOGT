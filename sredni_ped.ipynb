{
 "cells": [
  {
   "cell_type": "code",
   "execution_count": 1,
   "metadata": {},
   "outputs": [
    {
     "ename": "ModuleNotFoundError",
     "evalue": "No module named 'sympy'",
     "output_type": "error",
     "traceback": [
      "\u001b[1;31m---------------------------------------------------------------------------\u001b[0m",
      "\u001b[1;31mModuleNotFoundError\u001b[0m                       Traceback (most recent call last)",
      "Cell \u001b[1;32mIn[1], line 1\u001b[0m\n\u001b[1;32m----> 1\u001b[0m \u001b[39mimport\u001b[39;00m \u001b[39msympy\u001b[39;00m \u001b[39mas\u001b[39;00m \u001b[39msp\u001b[39;00m\n\u001b[0;32m      2\u001b[0m \u001b[39mimport\u001b[39;00m \u001b[39mnumpy\u001b[39;00m \u001b[39mas\u001b[39;00m \u001b[39mnp\u001b[39;00m\n\u001b[0;32m      3\u001b[0m \u001b[39mimport\u001b[39;00m \u001b[39mmatplotlib\u001b[39;00m\u001b[39m.\u001b[39;00m\u001b[39mpyplot\u001b[39;00m \u001b[39mas\u001b[39;00m \u001b[39mplt\u001b[39;00m\n",
      "\u001b[1;31mModuleNotFoundError\u001b[0m: No module named 'sympy'"
     ]
    }
   ],
   "source": [
    "import sympy as sp\n",
    "import numpy as np\n",
    "import matplotlib.pyplot as plt\n",
    "from sympy.utilities import lambdify\n",
    "from matplotlib.animation import FuncAnimation\n",
    "from IPython.display import HTML\n",
    "\n",
    "sp.init_printing()"
   ]
  },
  {
   "cell_type": "code",
   "execution_count": null,
   "metadata": {},
   "outputs": [
    {
     "data": {
      "image/png": "[encoded data removed]",
      "text/latex": [
       "$\\displaystyle \\left( x, \\  k, \\  a, \\  \\psi{\\left(x \\right)}, \\  n, \\  m, \\  \\hbar, \\  t\\right)$"
      ],
      "text/plain": [
       "(x, k, a, \\psi(x), n, m, h̅, t)"
      ]
     },
     "execution_count": 54,
     "metadata": {},
     "output_type": "execute_result"
    }
   ],
   "source": [
    "x = sp.Symbol('x', real = True)\n",
    "k = sp.Symbol('k', real = True, positive = True)\n",
    "a = sp.Symbol('a', real = True)\n",
    "n = sp.Symbol('n', integer = True, nonzero = True)\n",
    "m = sp.Symbol('m', real = True, positive = True)\n",
    "h = sp.Symbol('hbar', real = True, positive = True)\n",
    "t = sp.Symbol('t', real = True, positive = True)\n",
    "psi = sp.Function('\\psi')\n",
    "\n",
    "x, k, a, psi(x), n, m, h, t"
   ]
  },
  {
   "cell_type": "code",
   "execution_count": null,
   "metadata": {},
   "outputs": [
    {
     "data": {
      "image/png": "[encoded data removed]",
      "text/latex": [
       "$\\displaystyle \\frac{d^{2}}{d x^{2}} \\psi{\\left(x \\right)}$"
      ],
      "text/plain": [
       "  2         \n",
       " d          \n",
       "───(\\psi(x))\n",
       "  2         \n",
       "dx          "
      ]
     },
     "execution_count": 55,
     "metadata": {},
     "output_type": "execute_result"
    }
   ],
   "source": [
    "psi(x).diff(x, x)"
   ]
  },
  {
   "cell_type": "code",
   "execution_count": null,
   "metadata": {},
   "outputs": [
    {
     "data": {
      "image/png": "[encoded data removed]",
      "text/latex": [
       "$\\displaystyle - k^{2} \\psi{\\left(x \\right)}$"
      ],
      "text/plain": [
       "  2        \n",
       "-k ⋅\\psi(x)"
      ]
     },
     "execution_count": 56,
     "metadata": {},
     "output_type": "execute_result"
    }
   ],
   "source": [
    "-k**2 * psi(x)"
   ]
  },
  {
   "cell_type": "code",
   "execution_count": null,
   "metadata": {},
   "outputs": [
    {
     "data": {
      "image/png": "[encoded data removed]",
      "text/latex": [
       "$\\displaystyle \\frac{d^{2}}{d x^{2}} \\psi{\\left(x \\right)} = - k^{2} \\psi{\\left(x \\right)}$"
      ],
      "text/plain": [
       "  2                       \n",
       " d               2        \n",
       "───(\\psi(x)) = -k ⋅\\psi(x)\n",
       "  2                       \n",
       "dx                        "
      ]
     },
     "execution_count": 57,
     "metadata": {},
     "output_type": "execute_result"
    }
   ],
   "source": [
    "eq = sp.Eq(psi(x).diff(x, x), -k**2 * psi(x))\n",
    "eq"
   ]
  },
  {
   "cell_type": "code",
   "execution_count": null,
   "metadata": {},
   "outputs": [
    {
     "data": {
      "image/png": "[encoded data removed]",
      "text/latex": [
       "$\\displaystyle \\psi{\\left(x \\right)} = 0$"
      ],
      "text/plain": [
       "\\psi(x) = 0"
      ]
     },
     "execution_count": 58,
     "metadata": {},
     "output_type": "execute_result"
    }
   ],
   "source": [
    "sol = sp.dsolve(eq, psi(x), ics = {psi(0): 0, psi(a): 0})\n",
    "sol"
   ]
  },
  {
   "cell_type": "code",
   "execution_count": null,
   "metadata": {},
   "outputs": [
    {
     "data": {
      "image/png": "[encoded data removed]",
      "text/latex": [
       "$\\displaystyle \\psi{\\left(x \\right)} = C_{1} \\sin{\\left(k x \\right)}$"
      ],
      "text/plain": [
       "\\psi(x) = C₁⋅sin(k⋅x)"
      ]
     },
     "execution_count": 59,
     "metadata": {},
     "output_type": "execute_result"
    }
   ],
   "source": [
    "sol = sp.dsolve(eq, psi(x), ics = {psi(0): 0})\n",
    "sol"
   ]
  },
  {
   "cell_type": "code",
   "execution_count": null,
   "metadata": {},
   "outputs": [],
   "source": [
    "# sol = sp.dsolve(eq, psi(x), ics = {psi(0): 0, psi(a): 0})\n",
    "# sol"
   ]
  },
  {
   "cell_type": "code",
   "execution_count": null,
   "metadata": {},
   "outputs": [
    {
     "data": {
      "text/plain": [
       "<matplotlib.collections.LineCollection at 0x1964330d608>"
      ]
     },
     "execution_count": 61,
     "metadata": {},
     "output_type": "execute_result"
    },
    {
     "data": {
      "image/png": "[encoded data removed]",
      "text/plain": [
       "<Figure size 640x480 with 1 Axes>"
      ]
     },
     "metadata": {},
     "output_type": "display_data"
    }
   ],
   "source": [
    "plt.hlines(np.arange(1, 10)**2, 0, 1)"
   ]
  },
  {
   "cell_type": "code",
   "execution_count": null,
   "metadata": {},
   "outputs": [
    {
     "data": {
      "image/png": "[encoded data removed]",
      "text/latex": [
       "$\\displaystyle \\psi{\\left(x \\right)} = C_{1} \\sin{\\left(\\frac{\\pi n x}{a} \\right)}$"
      ],
      "text/plain": [
       "                ⎛π⋅n⋅x⎞\n",
       "\\psi(x) = C₁⋅sin⎜─────⎟\n",
       "                ⎝  a  ⎠"
      ]
     },
     "execution_count": 62,
     "metadata": {},
     "output_type": "execute_result"
    }
   ],
   "source": [
    "\n",
    "sol = sol.subs(k, n * sp.pi / a)\n",
    "sol"
   ]
  },
  {
   "cell_type": "code",
   "execution_count": null,
   "metadata": {},
   "outputs": [
    {
     "data": {
      "image/png": "[encoded data removed]",
      "text/latex": [
       "$\\displaystyle \\left( \\psi{\\left(x \\right)}, \\  C_{1} \\sin{\\left(\\frac{\\pi n x}{a} \\right)}\\right)$"
      ],
      "text/plain": [
       "⎛               ⎛π⋅n⋅x⎞⎞\n",
       "⎜\\psi(x), C₁⋅sin⎜─────⎟⎟\n",
       "⎝               ⎝  a  ⎠⎠"
      ]
     },
     "execution_count": 63,
     "metadata": {},
     "output_type": "execute_result"
    }
   ],
   "source": [
    "\n",
    "sol.lhs, sol.rhs\n"
   ]
  },
  {
   "cell_type": "code",
   "execution_count": null,
   "metadata": {},
   "outputs": [
    {
     "data": {
      "image/png": "[encoded data removed]",
      "text/latex": [
       "$\\displaystyle C_{1}^{2} \\sin^{2}{\\left(\\frac{\\pi n x}{a} \\right)}$"
      ],
      "text/plain": [
       "  2    2⎛π⋅n⋅x⎞\n",
       "C₁ ⋅sin ⎜─────⎟\n",
       "        ⎝  a  ⎠"
      ]
     },
     "execution_count": 64,
     "metadata": {},
     "output_type": "execute_result"
    }
   ],
   "source": [
    "sol.rhs**2"
   ]
  },
  {
   "cell_type": "code",
   "execution_count": null,
   "metadata": {},
   "outputs": [
    {
     "data": {
      "image/png": "[encoded data removed]",
      "text/latex": [
       "$\\displaystyle \\int\\limits_{0}^{a} \\left|{C_{1} \\sin{\\left(\\frac{\\pi n x}{a} \\right)}}\\right|^{2}\\, dx$"
      ],
      "text/plain": [
       "a                    \n",
       "⌠                    \n",
       "⎮                2   \n",
       "⎮ │      ⎛π⋅n⋅x⎞│    \n",
       "⎮ │C₁⋅sin⎜─────⎟│  dx\n",
       "⎮ │      ⎝  a  ⎠│    \n",
       "⌡                    \n",
       "0                    "
      ]
     },
     "execution_count": 65,
     "metadata": {},
     "output_type": "execute_result"
    }
   ],
   "source": [
    "\n",
    "sp.integrate(sp.Abs(sol.rhs)**2, (x, 0, a))"
   ]
  },
  {
   "cell_type": "code",
   "execution_count": null,
   "metadata": {},
   "outputs": [
    {
     "data": {
      "image/png": "[encoded data removed]",
      "text/latex": [
       "$\\displaystyle C_{1} \\sin^{2}{\\left(\\frac{\\pi n x}{a} \\right)} \\overline{C_{1}}$"
      ],
      "text/plain": [
       "      2⎛π⋅n⋅x⎞ __\n",
       "C₁⋅sin ⎜─────⎟⋅C₁\n",
       "       ⎝  a  ⎠   "
      ]
     },
     "execution_count": 66,
     "metadata": {},
     "output_type": "execute_result"
    }
   ],
   "source": [
    "\n",
    "sol.rhs * sp.conjugate(sol.rhs)"
   ]
  },
  {
   "cell_type": "code",
   "execution_count": null,
   "metadata": {},
   "outputs": [
    {
     "data": {
      "image/png": "[encoded data removed]",
      "text/latex": [
       "$\\displaystyle \\frac{C_{1} a \\overline{C_{1}}}{2}$"
      ],
      "text/plain": [
       "     __\n",
       "C₁⋅a⋅C₁\n",
       "───────\n",
       "   2   "
      ]
     },
     "execution_count": 67,
     "metadata": {},
     "output_type": "execute_result"
    }
   ],
   "source": [
    "\n",
    "sp.integrate(sol.rhs * sp.conjugate(sol.rhs), (x, 0, a))"
   ]
  },
  {
   "cell_type": "code",
   "execution_count": null,
   "metadata": {},
   "outputs": [
    {
     "data": {
      "image/png": "[encoded data removed]",
      "text/latex": [
       "$\\displaystyle \\frac{C_{1}^{2} a}{2}$"
      ],
      "text/plain": [
       "  2  \n",
       "C₁ ⋅a\n",
       "─────\n",
       "  2  "
      ]
     },
     "execution_count": 68,
     "metadata": {},
     "output_type": "execute_result"
    }
   ],
   "source": [
    "\n",
    "sp.integrate(sol.rhs**2, (x, 0, a))"
   ]
  },
  {
   "cell_type": "code",
   "execution_count": null,
   "metadata": {},
   "outputs": [
    {
     "data": {
      "image/png": "[encoded data removed]",
      "text/latex": [
       "$\\displaystyle C_{1}$"
      ],
      "text/plain": [
       "C₁"
      ]
     },
     "execution_count": 69,
     "metadata": {},
     "output_type": "execute_result"
    }
   ],
   "source": [
    "\n",
    "sp.Symbol('C1')"
   ]
  },
  {
   "cell_type": "code",
   "execution_count": null,
   "metadata": {},
   "outputs": [
    {
     "data": {
      "image/png": "[encoded data removed]",
      "text/latex": [
       "$\\displaystyle \\psi{\\left(x \\right)} = \\sqrt{2} \\sqrt{\\frac{1}{a}} \\sin{\\left(\\frac{\\pi n x}{a} \\right)}$"
      ],
      "text/plain": [
       "                 ___           \n",
       "                ╱ 1     ⎛π⋅n⋅x⎞\n",
       "\\psi(x) = √2⋅  ╱  ─ ⋅sin⎜─────⎟\n",
       "             ╲╱   a     ⎝  a  ⎠"
      ]
     },
     "execution_count": 70,
     "metadata": {},
     "output_type": "execute_result"
    }
   ],
   "source": [
    "\n",
    "sol = sol.subs(sp.Symbol('C1'), sp.sqrt(2 / a))\n",
    "sol"
   ]
  },
  {
   "cell_type": "code",
   "execution_count": null,
   "metadata": {},
   "outputs": [
    {
     "data": {
      "image/png": "[encoded data removed]",
      "text/latex": [
       "$\\displaystyle \\frac{a}{2}$"
      ],
      "text/plain": [
       "a\n",
       "─\n",
       "2"
      ]
     },
     "execution_count": 78,
     "metadata": {},
     "output_type": "execute_result"
    }
   ],
   "source": [
    "sp.integrate(sol.rhs * x * sol.rhs, (x, 0, a))"
   ]
  },
  {
   "cell_type": "code",
   "execution_count": null,
   "metadata": {},
   "outputs": [
    {
     "data": {
      "image/png": "[encoded data removed]",
      "text/latex": [
       "$\\displaystyle \\frac{a^{2}}{3} - \\frac{a^{2}}{2 \\pi^{2} n^{2}}$"
      ],
      "text/plain": [
       " 2       2  \n",
       "a       a   \n",
       "── - ───────\n",
       "3       2  2\n",
       "     2⋅π ⋅n "
      ]
     },
     "execution_count": 79,
     "metadata": {},
     "output_type": "execute_result"
    }
   ],
   "source": [
    "sp.integrate(sol.rhs * x**2 * sol.rhs, (x, 0, a)).simplify()"
   ]
  },
  {
   "cell_type": "code",
   "execution_count": null,
   "metadata": {},
   "outputs": [
    {
     "data": {
      "image/png": "[encoded data removed]",
      "text/latex": [
       "$\\displaystyle 0$"
      ],
      "text/plain": [
       "0"
      ]
     },
     "execution_count": 80,
     "metadata": {},
     "output_type": "execute_result"
    }
   ],
   "source": [
    "srped = sp.integrate(sol.rhs * -h * complex(0,1) * (sol.rhs).diff(x), (x, 0, a))\n",
    "srped"
   ]
  },
  {
   "cell_type": "code",
   "execution_count": null,
   "metadata": {},
   "outputs": [
    {
     "data": {
      "image/png": "[encoded data removed]",
      "text/latex": [
       "$\\displaystyle \\frac{\\pi^{2} \\hbar^{2} n^{2}}{a^{2}}$"
      ],
      "text/plain": [
       " 2  2  2\n",
       "π ⋅h̅ ⋅n \n",
       "────────\n",
       "    2   \n",
       "   a    "
      ]
     },
     "execution_count": 81,
     "metadata": {},
     "output_type": "execute_result"
    }
   ],
   "source": [
    "srped2 = sp.integrate(sol.rhs * -h**2 * (sol.rhs).diff(x,x), (x, 0, a))\n",
    "srped2"
   ]
  }
 ],
 "metadata": {
  "kernelspec": {
   "display_name": "Python 3",
   "language": "python",
   "name": "python3"
  },
  "language_info": {
   "codemirror_mode": {
    "name": "ipython",
    "version": 3
   },
   "file_extension": ".py",
   "mimetype": "text/x-python",
   "name": "python",
   "nbconvert_exporter": "python",
   "pygments_lexer": "ipython3",
   "version": "3.11.1"
  },
  "orig_nbformat": 4,
  "vscode": {
   "interpreter": {
    "hash": "479c024d8c1ba640302b4144ae2504c0f4f573f1cdb1a121f19e1fdbd363b569"
   }
  }
 },
 "nbformat": 4,
 "nbformat_minor": 2
}
